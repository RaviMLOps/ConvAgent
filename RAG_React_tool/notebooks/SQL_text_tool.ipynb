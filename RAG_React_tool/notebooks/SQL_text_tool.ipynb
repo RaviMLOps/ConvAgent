{
 "cells": [
  {
   "cell_type": "code",
   "execution_count": null,
   "id": "5ecb3224",
   "metadata": {},
   "outputs": [],
   "source": [
    "# def cancel_flight(PNR_Number,Booking_Status,Refund_Status):\n",
    "#     #cancel_flight_to_db(PNR_Number,Booking_Status,Refund_Status)\n",
    "#     print(\"The tool is called here....\")\n",
    "#     return {\"cancelled\":\"OK\"}\n",
    "\n",
    "\n",
    "# cancel_flight_json = {\n",
    "#     \"name\": \"cancel_flight\",\n",
    "#     \"description\": \"Use this tool to cancel a flight for a user who has provided required parameters\",\n",
    "#     \"parameters\": {\n",
    "#         \"type\": \"object\",\n",
    "#         \"properties\": {\n",
    "#             \"PNR_Number\": {\n",
    "#                 \"type\": \"string\",\n",
    "#                 \"description\": \"This is the PNR Number of this user or traveller\"\n",
    "#             },\n",
    "#             \"Booking_Status\": {\n",
    "#                 \"type\": \"string\",\n",
    "#                 \"description\": \"This is the Booking Status of this user or traveller\"\n",
    "#             },\n",
    "#             \"Refund_Status\": {\n",
    "#                 \"type\": \"string\",\n",
    "#                 \"description\":  \"This is the Refund Status of this user or traveller\"\n",
    "#             }\n",
    "\n",
    "#         },\n",
    "#         \"required\": [\"PNR_Number\",\"Booking_Status\",\"Refund_Status\"],\n",
    "#         \"additionalProperties\": False\n",
    "#     }\n",
    "# }\n",
    "\n",
    "# tools = [{\"type\": \"function\", \"function\": cancel_flight_json}]\n"
   ]
  },
  {
   "cell_type": "code",
   "execution_count": null,
   "id": "ba17fed8",
   "metadata": {},
   "outputs": [],
   "source": [
    "# Build prompt\n",
    "template = \"\"\"You are a SQLite expert. Given an input request, return a syntactically correct SQLite query to run.\n",
    "Never query for all columns from a table. You must query only the columns that are needed to answer the question. Wrap each column name in double quotes (\") to denote them as delimited identifiers.\n",
    "Pay attention to use only the column names you can see in the tables below. Be careful to not query for columns that do not exist. Also, pay attention to which column is in which table.\n",
    "Do not return any new columns nor perform aggregation on columns. \n",
    "\n",
    "In case of cancellation query , do confirm with user that the PNR_Number is correct and share information about cancellation policy and refund amount. \n",
    "In case of cancellation query, update the table Flight_reservation the Booking_Status to \"Cancelled\" and Refund_Status to \"Refunded\".\n",
    "\n",
    "The database {airline.db} currently have data of Flight Reservation, and the PNR_Number column includes the ticker representing the Flight Reservation.\n",
    "Once you start generating sql queries make sure that you only use correct PNR_Number for filtering and restrict yourself to use only current Flight Reservation.\n",
    "If user asks for unique PNR_Number present in table then do not limit the output.t\n",
    "\n",
    "Use the following format:\n",
    "\n",
    "Request: Request here\n",
    "SQLQuery: Generated SQL Query here\n",
    "\n",
    "Only use the following tables:\n",
    "create table IF NOT EXISTS Flight_reservation (\n",
    "        PNR_Number VARCHAR(10),\n",
    "        Customer_Name VARCHAR(50),\n",
    "        Flight_ID VARCHAR(50),\n",
    "        Airline VARCHAR(50),\n",
    "        From_City VARCHAR(50),\n",
    "        To_City VARCHAR(50),\n",
    "        Departure_Time TIME,\n",
    "        Arrival_Time TIME,\n",
    "        Travel_Date DATE,\n",
    "        Booking_Date DATE,\n",
    "        Booking_Status VARCHAR(20),\n",
    "        Refund_Status VARCHAR(20)\n",
    "    )''')\n",
    "\n",
    "Request: {request}\n",
    "SQLQuery:\n",
    "\"\"\"\n",
    "\n",
    "PROMPT = PromptTemplate(input_variables=[\"request\"], template=template)"
   ]
  },
  {
   "cell_type": "code",
   "execution_count": null,
   "id": "b9b713a7",
   "metadata": {},
   "outputs": [],
   "source": []
  },
  {
   "cell_type": "code",
   "execution_count": null,
   "id": "19c5b66a",
   "metadata": {},
   "outputs": [],
   "source": [
    "# SQL Query Generation Chain - created using LCEL (LangChain Expression Language)\n",
    "\n",
    "sql_chain = (PROMPT\n",
    "             | llm\n",
    "             | StrOutputParser()       # to get output in a more usable format\n",
    "             )"
   ]
  }
 ],
 "metadata": {
  "kernelspec": {
   "display_name": "venv",
   "language": "python",
   "name": "python3"
  },
  "language_info": {
   "name": "python",
   "version": "3.11.0"
  }
 },
 "nbformat": 4,
 "nbformat_minor": 5
}
