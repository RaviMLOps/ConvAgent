{
 "cells": [
  {
   "cell_type": "code",
   "execution_count": null,
   "id": "65fb2aa8",
   "metadata": {},
   "outputs": [],
   "source": [
    "!pip install langchain langchain_community langchain_core langchain_openai langchain_text_splitters\n",
    "!pip install chromadb\n",
    "!pip install langchainhub\n",
    "!pip install chromadb openai langchain"
   ]
  },
  {
   "cell_type": "code",
   "execution_count": null,
   "id": "7ad660cd",
   "metadata": {},
   "outputs": [],
   "source": [
    "pip install PyPDF2 langchain sentence-transformers faiss-cpu openai"
   ]
  },
  {
   "cell_type": "code",
   "execution_count": null,
   "id": "2d97593e",
   "metadata": {},
   "outputs": [],
   "source": [
    "import bs4\n",
    "from langchain import hub\n",
    "from langchain_community.document_loaders import WebBaseLoader\n",
    "from langchain_community.vectorstores import Chroma\n",
    "from langchain_core.output_parsers import StrOutputParser\n",
    "from langchain_core.runnables import RunnablePassthrough\n",
    "from langchain_text_splitters import RecursiveCharacterTextSplitter\n",
    "from langchain_openai import ChatOpenAI, OpenAIEmbeddings\n",
    "from langchain.schema.document import Document"
   ]
  },
  {
   "cell_type": "code",
   "execution_count": null,
   "id": "76133992",
   "metadata": {},
   "outputs": [],
   "source": [
    "import PyPDF2\n",
    "\n",
    "#pdf_path = r\"C:\\Users\\hc_ankit\\Documents\\IISc_Assigment_Quiz_track\\RAG\\GEP-Jan-2025.pdf\"\n",
    "pdf_path = \"/content/drive/My Drive/GEP-Jan-2025.pdf\"\n",
    "\n",
    "def extract_text_from_pdf(pdf_path):\n",
    "    text = \"\"\n",
    "    #print(pdf_path)\n",
    "    with open(pdf_path, \"rb\") as file:\n",
    "        pdf_reader = PyPDF2.PdfReader(file)\n",
    "        for page in pdf_reader.pages:\n",
    "            text += page.extract_text() + \"\\n\"\n",
    "    return text\n",
    "\n",
    "pdf_text = extract_text_from_pdf(pdf_path)\n",
    "print(pdf_text[:500])  # Preview first 500 characters"
   ]
  },
  {
   "cell_type": "code",
   "execution_count": null,
   "id": "d0c9581f",
   "metadata": {},
   "outputs": [],
   "source": [
    "pdf_text"
   ]
  },
  {
   "cell_type": "code",
   "execution_count": null,
   "id": "1d9a9a76",
   "metadata": {},
   "outputs": [],
   "source": [
    "len(pdf_text)"
   ]
  },
  {
   "cell_type": "code",
   "execution_count": null,
   "id": "c996eec0",
   "metadata": {},
   "outputs": [],
   "source": [
    "text_splitter = RecursiveCharacterTextSplitter(chunk_size=500, chunk_overlap=50)\n",
    "chunks = text_splitter.split_text(pdf_text)\n",
    "\n",
    "print(f\"Total Chunks: {len(chunks)}\")\n",
    "print(f\"Sample Chunk: {chunks[100]}\")\n"
   ]
  },
  {
   "cell_type": "code",
   "execution_count": null,
   "id": "c303a7d8",
   "metadata": {},
   "outputs": [],
   "source": [
    "print(f\"Sample Chunk: {chunks[120]}\")"
   ]
  },
  {
   "cell_type": "code",
   "execution_count": null,
   "id": "6d27f8e2",
   "metadata": {},
   "outputs": [],
   "source": [
    "# Convert to Document objects\n",
    "splits = [Document(page_content=chunk) for chunk in chunks]"
   ]
  },
  {
   "cell_type": "code",
   "execution_count": null,
   "id": "aee31853",
   "metadata": {},
   "outputs": [],
   "source": [
    "from langchain.vectorstores import Chroma\n",
    "from langchain.embeddings import HuggingFaceEmbeddings\n",
    "\n",
    "embedding_function = HuggingFaceEmbeddings(model_name=\"all-MiniLM-L6-v2\")\n",
    "#embedding_function = HuggingFaceEmbeddings(model_name=\"multilingual-e5-large-instruct\")\n",
    "\n",
    "# Store document chunks in ChromaDB\n",
    "vectorstore = Chroma.from_documents(documents=splits, embedding=embedding_function)\n",
    "\n",
    "print(\"ChromaDB initialized with PDF embeddings!\")\n"
   ]
  },
  {
   "cell_type": "code",
   "execution_count": null,
   "id": "fcb3a824",
   "metadata": {},
   "outputs": [],
   "source": []
  }
 ],
 "metadata": {
  "kernelspec": {
   "display_name": ".venv",
   "language": "python",
   "name": "python3"
  },
  "language_info": {
   "name": "python",
   "version": "3.11.0"
  }
 },
 "nbformat": 4,
 "nbformat_minor": 5
}
