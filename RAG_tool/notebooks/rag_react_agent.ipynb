{
 "cells": [
  {
   "cell_type": "code",
   "execution_count": null,
   "id": "7dd9bd83",
   "metadata": {},
   "outputs": [],
   "source": [
    "%%capture\n",
    "!pip -q install openai\n",
    "!pip -q install langchain-core\n",
    "!pip -q install langchain-community\n",
    "!pip -q install sentence-transformers\n",
    "!pip -q install langchain-huggingface\n",
    "!pip -q install langchain-experimental\n",
    "!pip -q install langchainhub\n",
    "!pip -q install langchain-openai\n",
    "\n",
    "# for wikipedia as a tool\n",
    "!pip -q install -U wikipedia\n",
    "\n",
    "# for google-search as a tool\n",
    "!pip -q install google-search-results"
   ]
  },
  {
   "cell_type": "code",
   "execution_count": null,
   "id": "af666dea",
   "metadata": {},
   "outputs": [],
   "source": [
    "import os\n",
    "from google.colab import userdata\n",
    "\n",
    "import openai\n",
    "from langchain.prompts import PromptTemplate\n",
    "from langchain import hub\n",
    "from langchain.agents import load_tools, create_react_agent, AgentExecutor\n",
    "from langchain.tools.render import render_text_description\n",
    "from langchain_community.utilities import SerpAPIWrapper"
   ]
  },
  {
   "cell_type": "code",
   "execution_count": null,
   "id": "b802fef4",
   "metadata": {},
   "outputs": [],
   "source": [
    "from langchain_openai import ChatOpenAI\n",
    "\n",
    "llm = ChatOpenAI(model_name=\"gpt-4o-mini\", temperature=0)\n",
    "\n",
    "# We are going to use this language model as the reasoning engine of the agent to connect to other data sources and perform computation\n",
    "# so we want this reasoning engine to be as presice as possible.\n",
    "# Hence, temperature is set to zero to get rid of any randomness."
   ]
  },
  {
   "cell_type": "code",
   "execution_count": null,
   "id": "3287dce0",
   "metadata": {},
   "outputs": [],
   "source": [
    "import datetime as dt\n",
    "\n",
    "def timefunc(text: str) -> str:\n",
    "    dt_india = dt.datetime.utcnow() + dt.timedelta(hours=5, minutes=30)\n",
    "    return dt_india.strftime('%Y-%m-%d %H:%M:%S.%f')"
   ]
  },
  {
   "cell_type": "code",
   "execution_count": null,
   "id": "fa5c5a22",
   "metadata": {},
   "outputs": [],
   "source": [
    "# Create the tool to pass to an agent\n",
    "\n",
    "from langchain_core.tools import Tool\n",
    "\n",
    "timetool = Tool(\n",
    "    name=\"time_tool\",\n",
    "    description=\"\"\"Returns current date and time, use this for any \\\n",
    "    questions related to knowing current date and Indian time. \\\n",
    "    The input should always be an empty string, \\\n",
    "    and this function will always return current  \\\n",
    "    date and time.\"\"\",\n",
    "    func = timefunc,\n",
    ")"
   ]
  },
  {
   "cell_type": "code",
   "execution_count": null,
   "id": "1afd1686",
   "metadata": {},
   "outputs": [],
   "source": [
    "tools = load_tools([], llm=llm) + [timetool, ]\n",
    "tools"
   ]
  },
  {
   "cell_type": "code",
   "execution_count": null,
   "id": "8136822c",
   "metadata": {},
   "outputs": [],
   "source": [
    "# Create the ReAct agent using the create_react_agent function\n",
    "\n",
    "agent = create_react_agent(\n",
    "    llm=llm,\n",
    "    tools=tools,\n",
    "    prompt=prompt,\n",
    "    stop_sequence=True,\n",
    ")"
   ]
  },
  {
   "cell_type": "code",
   "execution_count": null,
   "id": "bd4b15c3",
   "metadata": {},
   "outputs": [],
   "source": [
    "# Create an agent executor from the agent and tools\n",
    "\n",
    "agent_executor = AgentExecutor.from_agent_and_tools(\n",
    "    agent=agent,\n",
    "    tools=tools,\n",
    "    verbose=True,\n",
    ")"
   ]
  },
  {
   "cell_type": "code",
   "execution_count": null,
   "id": "b1d1345f",
   "metadata": {},
   "outputs": [],
   "source": [
    "result = agent_executor.invoke(\n",
    "    {\n",
    "        \"input\": \"What is the current time?\"\n",
    "    }\n",
    ")\n",
    "result"
   ]
  }
 ],
 "metadata": {
  "language_info": {
   "name": "python"
  }
 },
 "nbformat": 4,
 "nbformat_minor": 5
}
